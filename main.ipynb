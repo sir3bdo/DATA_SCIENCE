{
 "cells": [
  {
   "cell_type": "markdown",
   "metadata": {},
   "source": [
    "# Imports"
   ]
  },
  {
   "cell_type": "code",
   "execution_count": 2,
   "metadata": {},
   "outputs": [],
   "source": [
    "import string\n",
    "import matplotlib.pyplot as plt\n",
    "from matplotlib.backends.backend_tkagg import FigureCanvasTkAgg\n",
    "import numpy as np\n",
    "import pandas as pd\n",
    "import seaborn as sns\n",
    "from sklearn.model_selection import train_test_split\n",
    "from sklearn.neighbors import KNeighborsClassifier\n",
    "from sklearn.linear_model import LinearRegression, LogisticRegression\n",
    "from sklearn.metrics import classification_report,confusion_matrix,mean_squared_error,r2_score,accuracy_score,f1_score\n",
    "from sklearn import metrics\n",
    "from sklearn import tree\n",
    "from sklearn import linear_model\n",
    "from sklearn.naive_bayes import GaussianNB\n"
   ]
  },
  {
   "cell_type": "markdown",
   "metadata": {},
   "source": [
    "# Variables"
   ]
  },
  {
   "cell_type": "code",
   "execution_count": null,
   "metadata": {},
   "outputs": [],
   "source": [
    "dsn = None\n",
    "flag = []\n",
    "ac1 = []\n",
    "ac2 = []"
   ]
  },
  {
   "cell_type": "markdown",
   "metadata": {},
   "source": [
    "# Classification "
   ]
  },
  {
   "cell_type": "code",
   "execution_count": 7,
   "metadata": {},
   "outputs": [
    {
     "data": {
      "text/html": [
       "<div>\n",
       "<style scoped>\n",
       "    .dataframe tbody tr th:only-of-type {\n",
       "        vertical-align: middle;\n",
       "    }\n",
       "\n",
       "    .dataframe tbody tr th {\n",
       "        vertical-align: top;\n",
       "    }\n",
       "\n",
       "    .dataframe thead th {\n",
       "        text-align: right;\n",
       "    }\n",
       "</style>\n",
       "<table border=\"1\" class=\"dataframe\">\n",
       "  <thead>\n",
       "    <tr style=\"text-align: right;\">\n",
       "      <th></th>\n",
       "      <th>Study Hours</th>\n",
       "      <th>Previous Exam Score</th>\n",
       "      <th>Pass/Fail</th>\n",
       "    </tr>\n",
       "  </thead>\n",
       "  <tbody>\n",
       "    <tr>\n",
       "      <th>0</th>\n",
       "      <td>4.370861</td>\n",
       "      <td>81.889703</td>\n",
       "      <td>0</td>\n",
       "    </tr>\n",
       "    <tr>\n",
       "      <th>1</th>\n",
       "      <td>9.556429</td>\n",
       "      <td>72.165782</td>\n",
       "      <td>1</td>\n",
       "    </tr>\n",
       "    <tr>\n",
       "      <th>2</th>\n",
       "      <td>7.587945</td>\n",
       "      <td>58.571657</td>\n",
       "      <td>0</td>\n",
       "    </tr>\n",
       "    <tr>\n",
       "      <th>3</th>\n",
       "      <td>6.387926</td>\n",
       "      <td>88.827701</td>\n",
       "      <td>1</td>\n",
       "    </tr>\n",
       "    <tr>\n",
       "      <th>4</th>\n",
       "      <td>2.404168</td>\n",
       "      <td>81.083870</td>\n",
       "      <td>0</td>\n",
       "    </tr>\n",
       "  </tbody>\n",
       "</table>\n",
       "</div>"
      ],
      "text/plain": [
       "   Study Hours  Previous Exam Score  Pass/Fail\n",
       "0     4.370861            81.889703          0\n",
       "1     9.556429            72.165782          1\n",
       "2     7.587945            58.571657          0\n",
       "3     6.387926            88.827701          1\n",
       "4     2.404168            81.083870          0"
      ]
     },
     "execution_count": 7,
     "metadata": {},
     "output_type": "execute_result"
    }
   ],
   "source": [
    "df_class = pd.read_csv(\"student_exam_data.csv\")\n",
    "df_class.head()"
   ]
  },
  {
   "cell_type": "code",
   "execution_count": 8,
   "metadata": {},
   "outputs": [
    {
     "data": {
      "text/plain": [
       "Index(['Study Hours', 'Previous Exam Score', 'Pass/Fail'], dtype='object')"
      ]
     },
     "execution_count": 8,
     "metadata": {},
     "output_type": "execute_result"
    }
   ],
   "source": [
    "df_class.columns"
   ]
  },
  {
   "cell_type": "code",
   "execution_count": 9,
   "metadata": {},
   "outputs": [
    {
     "data": {
      "text/plain": [
       "Study Hours            0\n",
       "Previous Exam Score    0\n",
       "Pass/Fail              0\n",
       "dtype: int64"
      ]
     },
     "execution_count": 9,
     "metadata": {},
     "output_type": "execute_result"
    }
   ],
   "source": [
    "# To Check for NULLs\n",
    "df_class.isna().sum()"
   ]
  },
  {
   "cell_type": "code",
   "execution_count": 10,
   "metadata": {},
   "outputs": [
    {
     "data": {
      "text/plain": [
       "0"
      ]
     },
     "execution_count": 10,
     "metadata": {},
     "output_type": "execute_result"
    }
   ],
   "source": [
    "# To Check for Duplicates\n",
    "df_class.duplicated().sum()\n"
   ]
  },
  {
   "cell_type": "code",
   "execution_count": 12,
   "metadata": {},
   "outputs": [
    {
     "data": {
      "text/plain": [
       "0    316\n",
       "1    184\n",
       "Name: Pass/Fail, dtype: int64"
      ]
     },
     "execution_count": 12,
     "metadata": {},
     "output_type": "execute_result"
    }
   ],
   "source": [
    "y_class = df_class['Pass/Fail']\n",
    "X_class =  df_class.drop(['Pass/Fail'], axis=1)\n",
    "X_train_cl, X_test_cl, y_train_cl, y_test_cl = train_test_split(X_class, y_class, test_size=0.2,random_state=0)\n",
    "y_class.value_counts()\n",
    "# 0 Represents Pass & 1 Represents Fail"
   ]
  },
  {
   "cell_type": "markdown",
   "metadata": {},
   "source": [
    "## Data Visualization\n"
   ]
  },
  {
   "cell_type": "code",
   "execution_count": 13,
   "metadata": {},
   "outputs": [
    {
     "data": {
      "image/png": "[encoded data removed]",
      "text/plain": [
       "<Figure size 640x480 with 1 Axes>"
      ]
     },
     "metadata": {},
     "output_type": "display_data"
    },
    {
     "data": {
      "image/png": "[encoded data removed]",
      "text/plain": [
       "<Figure size 640x480 with 1 Axes>"
      ]
     },
     "metadata": {},
     "output_type": "display_data"
    },
    {
     "data": {
      "image/png": "[encoded data removed]",
      "text/plain": [
       "<Figure size 640x480 with 1 Axes>"
      ]
     },
     "metadata": {},
     "output_type": "display_data"
    },
    {
     "name": "stdout",
     "output_type": "stream",
     "text": [
      "Classification Data Correlation Matrix:\n",
      "                     Study Hours  Previous Exam Score  Pass/Fail\n",
      "Study Hours             1.000000             0.010354   0.583505\n",
      "Previous Exam Score     0.010354             1.000000   0.443706\n",
      "Pass/Fail               0.583505             0.443706   1.000000\n"
     ]
    },
    {
     "data": {
      "image/png": "[encoded data removed]",
      "text/plain": [
       "<Figure size 640x480 with 2 Axes>"
      ]
     },
     "metadata": {},
     "output_type": "display_data"
    }
   ],
   "source": [
    "#Data Visualization \n",
    "#Plotting Data Individually \n",
    "\n",
    "Pass_Fail = df_class['Pass/Fail'].value_counts()\n",
    "plt.pie(Pass_Fail, labels=['Pass', 'Fail'], autopct='%.1f%%')\n",
    "plt.title('Pass & Fail Pie Chart')\n",
    "plt.show()\n",
    "\n",
    "StudyHours=df_class['Study Hours']\n",
    "plt.hist(StudyHours, bins=20, color='skyblue', edgecolor='black')\n",
    "plt.xlabel('Study Hours')\n",
    "plt.ylabel('Frequency')\n",
    "plt.title('Histogram of Study Hours')\n",
    "plt.show()\n",
    "\n",
    "Prev_Exam_Score=df_class['Previous Exam Score']\n",
    "plt.hist(Prev_Exam_Score, bins=20, color='skyblue', edgecolor='black')\n",
    "plt.xlabel('Previous Exam Score')\n",
    "plt.ylabel('Frequency')\n",
    "plt.title('Histogram of Previous Exam Scores')\n",
    "plt.show()\n",
    "\n",
    "# Generate the correlation matrix\n",
    "correlation_matrix_Class = df_class[['Study Hours', 'Previous Exam Score', 'Pass/Fail']].corr()\n",
    "\n",
    "# Print out the correlation matrix\n",
    "print(\"Classification Data Correlation Matrix:\")\n",
    "print(correlation_matrix_Class)\n",
    "\n",
    "#Generate a heatmap for the correlation matrix\n",
    "sns.heatmap(correlation_matrix_Class, annot=True, cmap='coolwarm')\n",
    "plt.title('Correlation Heatmap')\n",
    "plt.show()"
   ]
  },
  {
   "cell_type": "code",
   "execution_count": null,
   "metadata": {},
   "outputs": [],
   "source": [
    "###################################################\n",
    "# Read the CSV file \"satgpa.csv\" into a DataFrame\n",
    "df = pd.read_csv(\"satgpa.csv\", encoding='latin-1')\n",
    "df.head()               # Display the first few rows of the DataFrame\n",
    "df.isna().sum()         # Check the number of missing values in each column of the DataFrame\n",
    "df.duplicated().sum()   # Check the number of duplicated rows in the DataFrame\n",
    "df.describe()           # Generate descriptive statistics of the DataFrame\n",
    "df.columns              # Retrieve the column names of the DataFrame\n",
    "\n",
    "##################################################\n",
    "# Data Visualization\n",
    "# Plotting Data individually\n",
    "Gender = df['sex'].value_counts()\n",
    "\n",
    "# Pie chart showing the percentage of females and males\n",
    "plt.pie(Gender, labels=['Females', 'Males'], autopct='%.1f%%')\n",
    "plt.title('Gender Pie Chart')\n",
    "plt.show()\n",
    "\n",
    "# Histograms of sat_scores\n",
    "Sat_V = df['sat_v']\n",
    "plt.hist(Sat_V, bins=20, color='skyblue', edgecolor='black')\n",
    "plt.xlabel('Sat_v Grades')\n",
    "plt.ylabel('Frequency')\n",
    "plt.title('Histogram of Sat_v')\n",
    "plt.show()\n",
    "\n",
    "Sat_m = df['sat_m']\n",
    "plt.hist(Sat_m, bins=20, color='skyblue', edgecolor='black')\n",
    "plt.xlabel('Sat_m Grades')\n",
    "plt.ylabel('Frequency')\n",
    "plt.title('Histogram of Sat_m')\n",
    "plt.show()\n",
    "\n",
    "Sat_sum = df['sat_sum']\n",
    "plt.hist(Sat_sum, bins=20, color='skyblue', edgecolor='black')\n",
    "plt.xlabel('Sat_sum Grades')\n",
    "plt.ylabel('Frequency')\n",
    "plt.title('Histogram of Sat_sum')\n",
    "plt.show()\n",
    "\n",
    "# Box-Plot of hs_gba & fy_gba \n",
    "High_School_GPA=df['hs_gpa']\n",
    "First_Year_GPA=df['fy_gpa']\n",
    "data = [High_School_GPA,First_Year_GPA]\n",
    "sns.boxplot(data)\n",
    "plt.show()\n",
    "\n",
    "# Generate the correlation matrix\n",
    "correlation_matrix = df[['sex', 'sat_v', 'sat_m', 'sat_sum', 'hs_gpa', 'fy_gpa']].corr()\n",
    "\n",
    "# Print out the correlation matrix\n",
    "print(\"Correlation Matrix:\")\n",
    "print(correlation_matrix)\n",
    "\n",
    "#Generate a heatmap for the correlation matrix\n",
    "sns.heatmap(correlation_matrix, annot=True, cmap='coolwarm')\n",
    "plt.title('Correlation Heatmap')\n",
    "plt.show()\n",
    "\n",
    "sns.pairplot(df, hue='sex')\n",
    "####################################################"
   ]
  },
  {
   "cell_type": "markdown",
   "metadata": {},
   "source": [
    "Ridge Regression"
   ]
  },
  {
   "cell_type": "code",
   "execution_count": null,
   "metadata": {},
   "outputs": [],
   "source": [
    "\n",
    "y = df['fy_gpa']                            # Extract the 'fy_gba' column as the target variable\n",
    "X = df.drop(['fy_gpa'], axis=1)             # Drop the 'fy_gba' column from the DataFrame and assign the remaining columns to X\n",
    "\n",
    "# Split the data into training and testing sets, with 80% for training and 20% for testing\n",
    "X_train, X_test, y_train, y_test = train_test_split(X, y, test_size=0.2,random_state=0)\n",
    "model1 = LinearRegression()                 # Create an instance of the LinearRegression model\n",
    "model1.fit(X_train, y_train)                # Fit the model using the training data\n",
    "y_hat = model1.predict(X_test)              # Predict the target variable using the test data\n",
    "\n",
    "# Calculate the mean squared error (MSE) between the actual and predicted values\n",
    "print('MSE :' , mean_squared_error(y_test, y_hat))\n",
    "plt.scatter(y_test, y_hat)\n",
    "\n",
    "# Calculate the coefficient of determination (R-squared score) between the actual and predicted values\n",
    "print('r2_score = ',r2_score(y_test, y_hat))\n",
    "\n",
    "######################################################\n",
    "# Ridge Regression\n",
    "def RIDGEREG():\n",
    "    # Global variables\n",
    "    global flag  # Indicator flag\n",
    "    global ac3  # List to store evaluation metrics\n",
    "    global lisreg  # List to store regression model information\n",
    "    global ax  # List to store mean absolute error\n",
    "    global az  # List to store root mean squared error\n",
    "    global ay  # List to store mean squared error\n",
    "\n",
    "    flag.append(4)  # Append value 4 to the flag list\n",
    "\n",
    "    y = df['fy_gpa']  # Target variable\n",
    "    X = df.drop(['fy_gpa'], axis=1)  # Features\n",
    "    X_train, X_test, y_train, y_test = train_test_split(X, y, test_size=0.2, random_state=0)\n",
    "    # Split the data into training and test sets\n",
    "\n",
    "    reg = linear_model.Ridge(alpha=0.01, fit_intercept=True)  # Create a Ridge regression object\n",
    "    reg.fit(X_train, y_train)  # Fit the regression model using training data\n",
    "    y_hat = reg.predict(X_test)  # Predict the target variable for test data\n",
    "\n",
    "    #print('MSE :' , mean_squared_error(y_test, y_hat))\n",
    "    plt.scatter(y_test, y_hat)  # Scatter plot of predicted vs. actual values\n",
    "    print('R2 :' , r2_score(y_test, y_hat))  # Compute R2 score\n",
    "\n",
    "    ax = [metrics.mean_absolute_error(y_test, y_hat)]  # Compute and store mean absolute error\n",
    "    ay = [metrics.mean_squared_error(y_test, y_hat)]  # Compute and store mean squared error\n",
    "    az = [np.sqrt(metrics.mean_squared_error(y_test, y_hat))]  # Compute and store root mean squared error\n",
    "\n",
    "    validation()  # Call the validation function\n",
    "\n",
    "    return reg  # Return the regression model"
   ]
  },
  {
   "cell_type": "markdown",
   "metadata": {},
   "source": [
    "## Logistic Regression"
   ]
  },
  {
   "cell_type": "code",
   "execution_count": 14,
   "metadata": {},
   "outputs": [],
   "source": [
    "#Logistic Regression\n",
    "LR = LogisticRegression()\n",
    "LR.fit(X_train_cl,y_train_cl)\n",
    "y_pred= LR.predict(X_test_cl)\n"
   ]
  },
  {
   "cell_type": "code",
   "execution_count": 20,
   "metadata": {},
   "outputs": [
    {
     "data": {
      "text/plain": [
       "0.8055555555555556"
      ]
     },
     "execution_count": 20,
     "metadata": {},
     "output_type": "execute_result"
    }
   ],
   "source": [
    "f1_score(y_test_cl,y_pred)"
   ]
  },
  {
   "cell_type": "code",
   "execution_count": 19,
   "metadata": {},
   "outputs": [
    {
     "name": "stdout",
     "output_type": "stream",
     "text": [
      "[[57  4]\n",
      " [10 29]]\n"
     ]
    }
   ],
   "source": [
    "print(confusion_matrix(y_test_cl,y_pred))"
   ]
  },
  {
   "cell_type": "markdown",
   "metadata": {},
   "source": [
    "# KNN"
   ]
  },
  {
   "cell_type": "code",
   "execution_count": null,
   "metadata": {},
   "outputs": [],
   "source": [
    "# K-nearest neighboorhood\n",
    "def KNN():\n",
    "    # Global variables\n",
    "    global flag  # Indicator flag\n",
    "    global ac1  # List to store confusion matrix and accuracy\n",
    "\n",
    "    flag.append(1)  # Append value 1 to the flag list\n",
    "\n",
    "    KNN = KNeighborsClassifier(n_neighbors=3)  # Create a KNeighborsClassifier object with 3 neighbors\n",
    "    KNN.fit(X_train_cl, y_train_cl)  # Fit the model using training data\n",
    "    y_knn_pred = KNN.predict(X_test_cl)  # Predict the labels for test data\n",
    "\n",
    "    f1_score(y_test_cl, y_knn_pred)  # Compute F1 score, but not assigned to a variable\n",
    "\n",
    "    validation()  # Call the validation function\n",
    "\n",
    "    ac1 = [confusion_matrix(y_test_cl, y_knn_pred), metrics.accuracy_score(y_knn_pred, y_test_cl)]\n",
    "    # Store confusion matrix and accuracy in the ac1 list"
   ]
  },
  {
   "cell_type": "markdown",
   "metadata": {},
   "source": [
    "# Naive Bayes"
   ]
  },
  {
   "cell_type": "code",
   "execution_count": null,
   "metadata": {},
   "outputs": [],
   "source": [
    "# Naive Bayes\n",
    "def naivebayes():\n",
    "    # Global variables\n",
    "    global dsn  # Dataset variable\n",
    "    global flag  # Indicator flag\n",
    "    global ac2  # List to store confusion matrix and accuracy\n",
    "\n",
    "    flag.append(3)  # Append value 3 to the flag list\n",
    "\n",
    "    Naive_Bayes = GaussianNB()  # Create a GaussianNB object\n",
    "    Naive_Bayes.fit(X_train_cl, y_train_cl)  # Fit the model using training data\n",
    "    y_NB_pred = Naive_Bayes.predict(X_test_cl)  # Predict the labels for test data\n",
    "\n",
    "    f1_score(y_test_cl, y_NB_pred)  # Compute F1 score, but not assigned to a variable\n",
    "\n",
    "    validation()  # Call the validation function\n",
    "\n",
    "    ac2 = [metrics.confusion_matrix(y_test_cl, y_NB_pred), metrics.accuracy_score(y_NB_pred, y_test_cl)]\n",
    "    # Store confusion matrix and accuracy in the ac2 list"
   ]
  },
  {
   "cell_type": "markdown",
   "metadata": {},
   "source": [
    "# Analysis "
   ]
  },
  {
   "cell_type": "code",
   "execution_count": null,
   "metadata": {},
   "outputs": [],
   "source": [
    "x2 = sm.add_constant(X)\n",
    "models = sm.OLS(y,x2)\n",
    "result = models.fit()\n",
    "print (result.summary())"
   ]
  }
 ],
 "metadata": {
  "kernelspec": {
   "display_name": "Python 3",
   "language": "python",
   "name": "python3"
  },
  "language_info": {
   "codemirror_mode": {
    "name": "ipython",
    "version": 3
   },
   "file_extension": ".py",
   "mimetype": "text/x-python",
   "name": "python",
   "nbconvert_exporter": "python",
   "pygments_lexer": "ipython3",
   "version": "3.10.6"
  }
 },
 "nbformat": 4,
 "nbformat_minor": 2
}
